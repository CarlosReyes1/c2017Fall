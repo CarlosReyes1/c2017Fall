{
 "cells": [
  {
   "cell_type": "markdown",
   "metadata": {},
   "source": [
    "# Computational Geometry"
   ]
  },
  {
   "cell_type": "code",
   "execution_count": 9,
   "metadata": {
    "collapsed": true
   },
   "outputs": [],
   "source": [
    "%matplotlib inline"
   ]
  },
  {
   "cell_type": "code",
   "execution_count": 10,
   "metadata": {
    "collapsed": true
   },
   "outputs": [],
   "source": [
    "import matplotlib.pyplot as plt"
   ]
  },
  {
   "cell_type": "markdown",
   "metadata": {},
   "source": [
    "## Sign of the Crossproduct\n",
    "\n",
    "Code to plot two vectors: p1 in green, p2 in blue."
   ]
  },
  {
   "cell_type": "code",
   "execution_count": 11,
   "metadata": {
    "collapsed": true
   },
   "outputs": [],
   "source": [
    "def PlotVectorP1P2(p1, p2):\n",
    "    plt.figure(figsize=(5, 5))\n",
    "    ax = plt.gca()\n",
    "    ax.quiver([0],[0],[p1[0]],[p1[1]],angles='xy',scale_units='xy',scale=1,color='g')\n",
    "    ax.quiver([0],[0],[p2[0]],[p2[1]],angles='xy',scale_units='xy',scale=1,color='b')\n",
    "    ax.set_xlim([-1,1])\n",
    "    ax.set_ylim([-1,1])\n",
    "    plt.show()\n",
    "    return"
   ]
  },
  {
   "cell_type": "markdown",
   "metadata": {},
   "source": [
    "Code Computing Crossproduct"
   ]
  },
  {
   "cell_type": "code",
   "execution_count": 12,
   "metadata": {
    "collapsed": false
   },
   "outputs": [],
   "source": [
    "def CrossProduct(p1, p2):\n",
    "    (x1, y1) = p1\n",
    "    (x2, y2) = p2\n",
    "    return x1*y2 - x2*y1"
   ]
  },
  {
   "cell_type": "markdown",
   "metadata": {},
   "source": [
    "### Example 1"
   ]
  },
  {
   "cell_type": "code",
   "execution_count": 14,
   "metadata": {
    "collapsed": false
   },
   "outputs": [
    {
     "data": {
      "image/png": "[encoded data removed]",
      "text/plain": [
       "<matplotlib.figure.Figure at 0x7f2b609251d0>"
      ]
     },
     "metadata": {},
     "output_type": "display_data"
    },
    {
     "name": "stdout",
     "output_type": "stream",
     "text": [
      "P(G)1 X P2(B):  0.5\n"
     ]
    }
   ],
   "source": [
    "p1 = (0.5, 0.5)\n",
    "p2 = (-0.5, 0.5)\n",
    "PlotVectorP1P2(p1, p2)\n",
    "print \"P(G)1 X P2(B): \", CrossProduct(p1, p2)"
   ]
  },
  {
   "cell_type": "markdown",
   "metadata": {},
   "source": [
    "### Example 2"
   ]
  },
  {
   "cell_type": "code",
   "execution_count": 15,
   "metadata": {
    "collapsed": false
   },
   "outputs": [
    {
     "data": {
      "image/png": "[encoded data removed]",
      "text/plain": [
       "<matplotlib.figure.Figure at 0x7f2b6076dcd0>"
      ]
     },
     "metadata": {},
     "output_type": "display_data"
    },
    {
     "name": "stdout",
     "output_type": "stream",
     "text": [
      "P(G)1 X P2(B):  -0.5\n"
     ]
    }
   ],
   "source": [
    "p1 = (0.5, 0.5)\n",
    "p2 = (0.5, -0.5)\n",
    "PlotVectorP1P2(p1, p2)\n",
    "print \"P(G)1 X P2(B): \", CrossProduct(p1, p2)"
   ]
  },
  {
   "cell_type": "markdown",
   "metadata": {},
   "source": [
    "## Intersection Checking\n",
    "Code checking intersecting line segments."
   ]
  },
  {
   "cell_type": "code",
   "execution_count": 16,
   "metadata": {
    "collapsed": true
   },
   "outputs": [],
   "source": [
    "def PrintDirection(p1, p2):\n",
    "    cp = CrossProduct(p1, p2)\n",
    "    if cp < 0:\n",
    "        print \"CounterClockwise: Left Turn\"\n",
    "    elif cp > 0:\n",
    "        print \"Clockwise: Right Turn\"\n",
    "    else:\n",
    "        print \"CoIncident\"\n",
    "\n",
    "def Direction(p0In, p1In, p2In):\n",
    "    p1 = p2In[0]-p0In[0], p2In[1]-p0In[1]\n",
    "    p2 = p1In[0]-p0In[0], p1In[1]-p0In[1]\n",
    "    return CrossProduct(p1, p2)\n",
    "\n",
    "def OnSegment(pi, pj, pk) :\n",
    "    if ( ((min(pi[0], pj[0]) <= pk[0]) and\n",
    "         (pk[0] <= max(pi[0], pj[0]) )) and\n",
    "         ((min(pi[1], pj[1]) <= pk[1]) and\n",
    "              (pk[1] <= max(pi[1], pj[1]) )) ):\n",
    "        return True\n",
    "    else:\n",
    "        return False\n",
    "\n",
    "\n",
    "def SegmentsIntersect(p1, p2, p3, p4):\n",
    "    d1 = Direction(p3, p4, p1)\n",
    "    d2 = Direction(p3, p4, p2)\n",
    "    d3 = Direction(p1, p2, p3)\n",
    "    d4 = Direction(p1, p2, p4)\n",
    "    if ( ((d1 > 0 and d2 < 0) or (d1 < 0 and d2 > 0)) and\n",
    "         ((d3 > 0 and d4 < 0) or (d3 < 0 and d4 > 0)) ):\n",
    "         return True\n",
    "    elif (d1 == 0 and\n",
    "       OnSegment(p3, p4, p1)):\n",
    "       return True\n",
    "    elif (d2 == 0 and\n",
    "       OnSegment(p3, p4, p2)):\n",
    "       return True\n",
    "    elif (d3 == 0 and\n",
    "       OnSegment(p1, p2, p3)):\n",
    "       return True\n",
    "    elif (d4 == 0 and\n",
    "       OnSegment(p1, p2, p4)):\n",
    "       return True\n",
    "    else:\n",
    "       return False"
   ]
  },
  {
   "cell_type": "markdown",
   "metadata": {},
   "source": [
    "Code to plot two segments"
   ]
  },
  {
   "cell_type": "code",
   "execution_count": 17,
   "metadata": {
    "collapsed": true
   },
   "outputs": [],
   "source": [
    "def PlotSegsP1P2P3P4(p1, p2, p3, p4):\n",
    "    X = [0]\n",
    "    Y = [0]\n",
    "    U = [p1[0]]\n",
    "    V = [p1[1]]\n",
    "    \n",
    "    plt.figure(figsize=(5, 5))\n",
    "    plt.plot([p1[0],p2[0]],[p1[1], p2[1]],'g-')\n",
    "    plt.plot([p3[0],p4[0]],[p3[1], p4[1]],'b-')\n",
    "    plt.show()\n",
    "    return"
   ]
  },
  {
   "cell_type": "markdown",
   "metadata": {},
   "source": [
    "### Example 1"
   ]
  },
  {
   "cell_type": "code",
   "execution_count": 18,
   "metadata": {
    "collapsed": false
   },
   "outputs": [
    {
     "data": {
      "image/png": "[encoded data removed]",
      "text/plain": [
       "<matplotlib.figure.Figure at 0x7f2b609250d0>"
      ]
     },
     "metadata": {},
     "output_type": "display_data"
    },
    {
     "name": "stdout",
     "output_type": "stream",
     "text": [
      "Segments Intersect\n"
     ]
    }
   ],
   "source": [
    "p1, p2, p3, p4 = (3,0), (3,10), (7,7), (2,7)\n",
    "PlotSegsP1P2P3P4(p1, p2, p3, p4)\n",
    "if SegmentsIntersect(p1, p2, p3, p4):\n",
    "    print \"Segments Intersect\"\n",
    "else:\n",
    "    print \"Segments DO NOT Intersect\"\n"
   ]
  },
  {
   "cell_type": "markdown",
   "metadata": {},
   "source": [
    "### Example 2"
   ]
  },
  {
   "cell_type": "code",
   "execution_count": 19,
   "metadata": {
    "collapsed": false
   },
   "outputs": [
    {
     "data": {
      "image/png": "[encoded data removed]",
      "text/plain": [
       "<matplotlib.figure.Figure at 0x7f2b60779d50>"
      ]
     },
     "metadata": {},
     "output_type": "display_data"
    },
    {
     "name": "stdout",
     "output_type": "stream",
     "text": [
      "Segments DO NOT Intersect\n"
     ]
    }
   ],
   "source": [
    "p1, p2, p3, p4 = (4,1), (1,3), (2,4), (7,7)\n",
    "PlotSegsP1P2P3P4(p1, p2, p3, p4)\n",
    "if SegmentsIntersect(p1, p2, p3, p4):\n",
    "    print \"Segments Intersect\"\n",
    "else:\n",
    "    print \"Segments DO NOT Intersect\"\n"
   ]
  }
 ],
 "metadata": {
  "kernelspec": {
   "display_name": "Python 2",
   "language": "python",
   "name": "python2"
  },
  "language_info": {
   "codemirror_mode": {
    "name": "ipython",
    "version": 2
   },
   "file_extension": ".py",
   "mimetype": "text/x-python",
   "name": "python",
   "nbconvert_exporter": "python",
   "pygments_lexer": "ipython2",
   "version": "2.7.12"
  }
 },
 "nbformat": 4,
 "nbformat_minor": 0
}
