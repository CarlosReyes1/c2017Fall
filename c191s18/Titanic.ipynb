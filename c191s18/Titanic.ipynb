{
 "cells": [
  {
   "cell_type": "code",
   "execution_count": 1,
   "metadata": {
    "collapsed": true
   },
   "outputs": [],
   "source": [
    "%matplotlib inline\n",
    "import numpy as np\n",
    "import pandas as pd\n",
    "\n",
    "import matplotlib as plt\n",
    "\n",
    "from sklearn import datasets\n",
    "from sklearn.pipeline import Pipeline\n",
    "from sklearn.preprocessing import StandardScaler\n",
    "from sklearn.svm import LinearSVC"
   ]
  },
  {
   "cell_type": "code",
   "execution_count": 53,
   "metadata": {
    "collapsed": false
   },
   "outputs": [
    {
     "name": "stdout",
     "output_type": "stream",
     "text": [
      "       PassengerId    Survived      Pclass         Age       SibSp  \\\n",
      "count   891.000000  891.000000  891.000000  714.000000  891.000000   \n",
      "mean    446.000000    0.383838    2.308642   29.699118    0.523008   \n",
      "std     257.353842    0.486592    0.836071   14.526497    1.102743   \n",
      "min       1.000000    0.000000    1.000000    0.420000    0.000000   \n",
      "25%     223.500000    0.000000    2.000000   20.125000    0.000000   \n",
      "50%     446.000000    0.000000    3.000000   28.000000    0.000000   \n",
      "75%     668.500000    1.000000    3.000000   38.000000    1.000000   \n",
      "max     891.000000    1.000000    3.000000   80.000000    8.000000   \n",
      "\n",
      "            Parch        Fare  \n",
      "count  891.000000  891.000000  \n",
      "mean     0.381594   32.204208  \n",
      "std      0.806057   49.693429  \n",
      "min      0.000000    0.000000  \n",
      "25%      0.000000    7.910400  \n",
      "50%      0.000000   14.454200  \n",
      "75%      0.000000   31.000000  \n",
      "max      6.000000  512.329200  \n",
      "         Survived      Pclass         Age       SibSp       Parch        Fare\n",
      "count  712.000000  712.000000  712.000000  712.000000  712.000000  712.000000\n",
      "mean     0.404494    2.240169   29.642093    0.514045    0.432584   34.567251\n",
      "std      0.491139    0.836854   14.492933    0.930692    0.854181   52.938648\n",
      "min      0.000000    1.000000    0.420000    0.000000    0.000000    0.000000\n",
      "25%      0.000000    1.000000   20.000000    0.000000    0.000000    8.050000\n",
      "50%      0.000000    2.000000   28.000000    0.000000    0.000000   15.645850\n",
      "75%      1.000000    3.000000   38.000000    1.000000    1.000000   33.000000\n",
      "max      1.000000    3.000000   80.000000    5.000000    6.000000  512.329200\n"
     ]
    }
   ],
   "source": [
    "titanic = pd.read_csv(\"titanic.train.csv\")\n",
    "titanic.describe()\n",
    "\n",
    "print titanic.describe()\n",
    "titanic = titanic.drop(['Ticket','Cabin','Name','PassengerId'], axis=1)\n",
    "# Remove NaN values\n",
    "titanic = titanic.dropna()\n",
    "\n",
    "print titanic.describe()\n"
   ]
  },
  {
   "cell_type": "code",
   "execution_count": 54,
   "metadata": {
    "collapsed": false
   },
   "outputs": [
    {
     "name": "stdout",
     "output_type": "stream",
     "text": [
      "Converting column Sex...\n",
      "Index([u'female', u'male'], dtype='object')\n",
      "Converting column Embarked...\n",
      "Index([u'C', u'Q', u'S'], dtype='object')\n"
     ]
    }
   ],
   "source": [
    "for col in titanic.select_dtypes(exclude=[\"number\"]).columns:\n",
    "    print(\"Converting column \"+col+\"...\")\n",
    "    titanic[col] = titanic[col].astype('category')    \n",
    "    print(titanic[col].cat.categories)\n",
    "    titanic[col] = titanic[col].cat.codes   \n"
   ]
  },
  {
   "cell_type": "code",
   "execution_count": 55,
   "metadata": {
    "collapsed": false
   },
   "outputs": [
    {
     "name": "stdout",
     "output_type": "stream",
     "text": [
      "(712, 7)\n",
      "           Pclass         Sex         Age       SibSp       Parch        Fare  \\\n",
      "count  712.000000  712.000000  712.000000  712.000000  712.000000  712.000000   \n",
      "mean     2.240169    0.636236   29.642093    0.514045    0.432584   34.567251   \n",
      "std      0.836854    0.481420   14.492933    0.930692    0.854181   52.938648   \n",
      "min      1.000000    0.000000    0.420000    0.000000    0.000000    0.000000   \n",
      "25%      1.000000    0.000000   20.000000    0.000000    0.000000    8.050000   \n",
      "50%      2.000000    1.000000   28.000000    0.000000    0.000000   15.645850   \n",
      "75%      3.000000    1.000000   38.000000    1.000000    1.000000   33.000000   \n",
      "max      3.000000    1.000000   80.000000    5.000000    6.000000  512.329200   \n",
      "\n",
      "         Embarked  \n",
      "count  712.000000  \n",
      "mean     1.595506  \n",
      "std      0.779038  \n",
      "min      0.000000  \n",
      "25%      2.000000  \n",
      "50%      2.000000  \n",
      "75%      2.000000  \n",
      "max      2.000000  \n"
     ]
    },
    {
     "data": {
      "text/plain": [
       "Pipeline(steps=(('scaler', StandardScaler(copy=True, with_mean=True, with_std=True)), ('linear_svc', LinearSVC(C=1, class_weight=None, dual=True, fit_intercept=True,\n",
       "     intercept_scaling=1, loss='hinge', max_iter=1000, multi_class='ovr',\n",
       "     penalty='l2', random_state=None, tol=0.0001, verbose=0))))"
      ]
     },
     "execution_count": 55,
     "metadata": {},
     "output_type": "execute_result"
    }
   ],
   "source": [
    "X = titanic.copy()\n",
    "y = titanic[\"Survived\"]\n",
    "X=X.drop(\"Survived\", axis=1)\n",
    "print X.shape\n",
    "print X.describe()\n",
    "svm_clf = Pipeline((\n",
    "        (\"scaler\", StandardScaler()),\n",
    "        (\"linear_svc\", LinearSVC(C=1, loss=\"hinge\")),\n",
    "    ))\n",
    "\n",
    "#svm_clf.fit(X_scaled, y)\n",
    "svm_clf.fit(X, y)"
   ]
  },
  {
   "cell_type": "code",
   "execution_count": 74,
   "metadata": {
    "collapsed": false
   },
   "outputs": [
    {
     "name": "stdout",
     "output_type": "stream",
     "text": [
      "           Pclass         Age       SibSp       Parch        Fare\n",
      "count  418.000000  332.000000  418.000000  418.000000  417.000000\n",
      "mean     2.265550   30.272590    0.447368    0.392344   35.627188\n",
      "std      0.841838   14.181209    0.896760    0.981429   55.907576\n",
      "min      1.000000    0.170000    0.000000    0.000000    0.000000\n",
      "25%      1.000000   21.000000    0.000000    0.000000    7.895800\n",
      "50%      3.000000   27.000000    0.000000    0.000000   14.454200\n",
      "75%      3.000000   39.000000    1.000000    0.000000   31.500000\n",
      "max      3.000000   76.000000    8.000000    9.000000  512.329200\n",
      "Converting column Sex...\n",
      "Index([u'female', u'male'], dtype='object')\n",
      "Converting column Embarked...\n",
      "Index([u'C', u'Q', u'S'], dtype='object')\n",
      "           Pclass         Sex         Age       SibSp       Parch        Fare  \\\n",
      "count  418.000000  418.000000  418.000000  418.000000  418.000000  418.000000   \n",
      "mean     2.265550    0.636364   30.272590    0.447368    0.392344   35.627188   \n",
      "std      0.841838    0.481622   12.634534    0.896760    0.981429   55.840500   \n",
      "min      1.000000    0.000000    0.170000    0.000000    0.000000    0.000000   \n",
      "25%      1.000000    0.000000   23.000000    0.000000    0.000000    7.895800   \n",
      "50%      3.000000    1.000000   30.272590    0.000000    0.000000   14.454200   \n",
      "75%      3.000000    1.000000   35.750000    1.000000    0.000000   31.500000   \n",
      "max      3.000000    1.000000   76.000000    8.000000    9.000000  512.329200   \n",
      "\n",
      "         Embarked  \n",
      "count  418.000000  \n",
      "mean     1.401914  \n",
      "std      0.854496  \n",
      "min      0.000000  \n",
      "25%      1.000000  \n",
      "50%      2.000000  \n",
      "75%      2.000000  \n",
      "max      2.000000  \n",
      "(418, 7)\n",
      "(418,)\n",
      "       PassengerId    Survived\n",
      "count   418.000000  418.000000\n",
      "mean   1100.500000    0.363636\n",
      "std     120.810458    0.481622\n",
      "min     892.000000    0.000000\n",
      "25%     996.250000    0.000000\n",
      "50%    1100.500000    0.000000\n",
      "75%    1204.750000    1.000000\n",
      "max    1309.000000    1.000000\n",
      "   PassengerId  Survived\n",
      "0          892         0\n",
      "1          893         1\n",
      "2          894         0\n",
      "3          895         0\n",
      "4          896         1\n",
      "5          897         0\n",
      "6          898         1\n",
      "7          899         0\n",
      "8          900         1\n",
      "9          901         0\n"
     ]
    }
   ],
   "source": [
    "test = pd.read_csv(\"titanic.test.csv\")\n",
    "test_x = test.drop(['Ticket','Cabin','Name','PassengerId'], axis=1)\n",
    "\n",
    "print test_x.describe()\n",
    "for col in test_x.select_dtypes(exclude=[\"number\"]).columns:\n",
    "    print(\"Converting column \"+col+\"...\")\n",
    "    test_x[col] = test_x[col].astype('category')    \n",
    "    print(test_x[col].cat.categories)\n",
    "    test_x[col] = test_x[col].cat.codes   \n",
    "\n",
    "test_x.Age.fillna(value=test_x.Age.mean(), inplace=True)\n",
    "test_x.Fare.fillna(value=test_x.Fare.mean(), inplace=True)\n",
    "test_x.Embarked.fillna(value=(test_x.Embarked.value_counts().idxmax()), inplace=True)\n",
    "\n",
    "print test_x.describe()\n",
    "print test_x.shape\n",
    "\n",
    "y_pred = svm_clf.predict(test_x)\n",
    "print y_pred.shape\n",
    "y_out = test[['PassengerId']].copy()\n",
    "y_out[\"Survived\"] = pd.DataFrame(y_pred,columns=[\"Survived\"])\n",
    "print y_out.describe()\n",
    "print y_out[:10]\n",
    "y_out.to_csv(\"titanic.pred.csv\",index=False)\n"
   ]
  }
 ],
 "metadata": {
  "kernelspec": {
   "display_name": "Python 2",
   "language": "python",
   "name": "python2"
  },
  "language_info": {
   "codemirror_mode": {
    "name": "ipython",
    "version": 2
   },
   "file_extension": ".py",
   "mimetype": "text/x-python",
   "name": "python",
   "nbconvert_exporter": "python",
   "pygments_lexer": "ipython2",
   "version": "2.7.6"
  }
 },
 "nbformat": 4,
 "nbformat_minor": 1
}
