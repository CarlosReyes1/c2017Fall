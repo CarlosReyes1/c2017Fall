{
 "cells": [
  {
   "cell_type": "markdown",
   "metadata": {},
   "source": [
    "# Simple example with GridSearchCV"
   ]
  },
  {
   "cell_type": "code",
   "execution_count": 7,
   "metadata": {
    "collapsed": true
   },
   "outputs": [],
   "source": [
    "# To support both python 2 and python 3\n",
    "from __future__ import division\n",
    "\n",
    "from sklearn.tree import DecisionTreeClassifier\n",
    "from sklearn.datasets import load_iris\n",
    "from sklearn.model_selection import GridSearchCV"
   ]
  },
  {
   "cell_type": "code",
   "execution_count": 29,
   "metadata": {
    "collapsed": false
   },
   "outputs": [
    {
     "name": "stdout",
     "output_type": "stream",
     "text": [
      "150 75 75\n",
      "Training Results: 1.0\n",
      "Test Results: 0.933333333333\n"
     ]
    }
   ],
   "source": [
    "from sklearn.model_selection import train_test_split\n",
    "\n",
    "iris = load_iris()\n",
    "Y = iris.target\n",
    "X = iris.data\n",
    "x_train, x_test, y_train, y_test = train_test_split(X, Y, test_size=0.5, random_state=42)\n",
    "\n",
    "print len(X), len(x_train), len(x_test)\n",
    "\n",
    "classifier = DecisionTreeClassifier(max_depth=15)\n",
    "\n",
    "classifier.fit(x_train, y_train)\n",
    "y_pred = classifier.predict(x_train)\n",
    "n_correct = sum(y_pred == y_train)\n",
    "print \"Training Results:\",  n_correct / len(y_train)\n",
    "\n",
    "y_pred = classifier.predict(x_test)\n",
    "n_correct = sum(y_pred == y_test)\n",
    "print \"Test Results:\", n_correct / len(y_pred)\n"
   ]
  },
  {
   "cell_type": "code",
   "execution_count": 34,
   "metadata": {
    "collapsed": false
   },
   "outputs": [
    {
     "name": "stdout",
     "output_type": "stream",
     "text": [
      "0.966666666667\n",
      "0.966666666667\n",
      "0.9\n",
      "1.0\n",
      "1.0\n"
     ]
    }
   ],
   "source": [
    "from sklearn.model_selection import StratifiedKFold\n",
    "from sklearn.base import clone\n",
    "\n",
    "skfolds = StratifiedKFold(n_splits=5, random_state=42)\n",
    "\n",
    "for train_index, test_index in skfolds.split(X, Y):\n",
    "    clone_classifier = clone(classifier)\n",
    "    X_train_folds = X[train_index]\n",
    "    y_train_folds = Y[train_index]\n",
    "    X_test_fold = X[test_index]\n",
    "    y_test_fold = Y[test_index]\n",
    "\n",
    "    clone_classifier.fit(X_train_folds, y_train_folds)\n",
    "    y_pred = clone_classifier.predict(X_test_fold)\n",
    "    n_correct = sum(y_pred == y_test_fold)\n",
    "    print(n_correct / len(y_pred))"
   ]
  },
  {
   "cell_type": "code",
   "execution_count": 35,
   "metadata": {
    "collapsed": false
   },
   "outputs": [
    {
     "name": "stdout",
     "output_type": "stream",
     "text": [
      "{'max_depth': 3}\n"
     ]
    }
   ],
   "source": [
    "iris = load_iris()\n",
    "classifier = DecisionTreeClassifier()\n",
    "\n",
    "param_grid = [    \n",
    "    {'max_depth': [1, 2, 3, 4, 5, 6, 7, 8, 9, 10] }]\n",
    "\n",
    "grid_search = GridSearchCV(classifier, param_grid, cv=10,\n",
    "                           scoring='neg_mean_squared_error')\n",
    "\n",
    "grid_search.fit(iris.data, iris.target)\n",
    "print grid_search.best_params_"
   ]
  }
 ],
 "metadata": {
  "kernelspec": {
   "display_name": "Python 2",
   "language": "python",
   "name": "python2"
  },
  "language_info": {
   "codemirror_mode": {
    "name": "ipython",
    "version": 2
   },
   "file_extension": ".py",
   "mimetype": "text/x-python",
   "name": "python",
   "nbconvert_exporter": "python",
   "pygments_lexer": "ipython2",
   "version": "2.7.6"
  }
 },
 "nbformat": 4,
 "nbformat_minor": 1
}
