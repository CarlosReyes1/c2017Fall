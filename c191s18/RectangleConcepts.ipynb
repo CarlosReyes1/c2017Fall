{
 "cells": [
  {
   "cell_type": "code",
   "execution_count": 35,
   "metadata": {
    "collapsed": true
   },
   "outputs": [],
   "source": [
    "%matplotlib inline\n",
    "# Important for using matplotlib w/ Ipython Notebook\n",
    "import matplotlib.pyplot as plt\n",
    "import matplotlib.patches as patches\n",
    "\n",
    "import matplotlib.image as mpimg\n",
    "import graphviz as gv\n",
    "\n",
    "import random\n",
    "import numpy as np\n",
    "\n",
    "import math\n",
    "\n",
    "import sys\n",
    "import os\n",
    "\n",
    "from __future__ import division"
   ]
  },
  {
   "cell_type": "code",
   "execution_count": 93,
   "metadata": {
    "collapsed": false
   },
   "outputs": [
    {
     "name": "stdout",
     "output_type": "stream",
     "text": [
      "[[20, 20], [40, 60]]\n"
     ]
    }
   ],
   "source": [
    "MaxRange = 100\n",
    "N = 50\n",
    "\n",
    "Positive = lambda x, c: (x[0]>=c[0][0] and x[0]<=c[1][0] and x[1]>=c[0][1] and x[1]<=c[1][1])\n",
    "pV = lambda: int(random.random()*(MaxRange-1)+1)\n",
    "X = lambda P: [p[0] for p in P]\n",
    "Y = lambda P: [p[1] for p in P]\n",
    "ConceptMod =lambda C, e1, e2: [ [C[0][0]+e1+e2, C[0][1]+e1+e2], [C[1][0]+e1-e2, C[1][1]+e1-e2] ]\n",
    "\n",
    "random.seed(55) \n",
    "Points = [(pV(), pV()) for _ in range(N)]\n",
    "\n",
    "p1 = [int(0.2*MaxRange), int(0.2*MaxRange)]\n",
    "p2 = [int(0.2*MaxRange), int(0.4*MaxRange)]\n",
    "Concept = [[p1[0],p1[1]], [min(p1[0]+p2[0],MaxRange-1),min(p1[1]+p2[1],MaxRange-1)]]\n",
    "print Concept\n",
    "\n",
    "positivePoints = [ p for p in Points if Positive(p, Concept)]\n",
    "negativePoints = [ p for p in Points if not Positive(p, Concept)]"
   ]
  },
  {
   "cell_type": "code",
   "execution_count": 101,
   "metadata": {
    "collapsed": false
   },
   "outputs": [
    {
     "name": "stdout",
     "output_type": "stream",
     "text": [
      "[(30, 35), (39, 41), (36, 21), (22, 55), (23, 56), (36, 42), (33, 53)]\n"
     ]
    },
    {
     "data": {
      "image/png": "[encoded data removed]",
      "text/plain": [
       "<matplotlib.figure.Figure at 0x7f5ec66baf50>"
      ]
     },
     "metadata": {},
     "output_type": "display_data"
    }
   ],
   "source": [
    "def DrawRect( ax, C, color='b' ): \n",
    "    rect = patches.Rectangle((C[0][0],C[0][1]),C[1][0]-C[0][0],C[1][1]-C[0][1],\n",
    "                             linewidth=1,edgecolor=color,facecolor='none')\n",
    "    ax.add_patch(rect)\n",
    "\n",
    "print positivePoints\n",
    "fig,ax = plt.subplots(1)\n",
    "ax.set_xlim(0,MaxRange)\n",
    "ax.set_ylim(0,MaxRange)\n",
    "plt.plot(X(positivePoints), Y(positivePoints), 'go')\n",
    "plt.plot(X(negativePoints), Y(negativePoints), 'ro')\n",
    "DrawRect( ax, Concept)\n",
    "DrawRect( ax, ConceptMod(Concept, 7, 0), 'k' )\n",
    "\n",
    "plt.show()"
   ]
  }
 ],
 "metadata": {
  "kernelspec": {
   "display_name": "Python 2",
   "language": "python",
   "name": "python2"
  },
  "language_info": {
   "codemirror_mode": {
    "name": "ipython",
    "version": 2
   },
   "file_extension": ".py",
   "mimetype": "text/x-python",
   "name": "python",
   "nbconvert_exporter": "python",
   "pygments_lexer": "ipython2",
   "version": "2.7.6"
  }
 },
 "nbformat": 4,
 "nbformat_minor": 1
}
